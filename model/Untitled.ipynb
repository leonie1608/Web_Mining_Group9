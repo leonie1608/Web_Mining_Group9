{
 "cells": [
  {
   "cell_type": "markdown",
   "id": "a9404c2c-0d76-4947-b4ee-02cbbc5adc42",
   "metadata": {},
   "source": [
    "# Data Preprocessing"
   ]
  },
  {
   "cell_type": "code",
   "execution_count": 14,
   "id": "ab3b48d8-1534-41e7-8761-4b7dd8291d7c",
   "metadata": {},
   "outputs": [
    {
     "name": "stderr",
     "output_type": "stream",
     "text": [
      "[nltk_data] Downloading package stopwords to\n",
      "[nltk_data]     C:\\Users\\Leonie\\AppData\\Roaming\\nltk_data...\n",
      "[nltk_data]   Package stopwords is already up-to-date!\n"
     ]
    },
    {
     "data": {
      "text/plain": [
       "True"
      ]
     },
     "execution_count": 14,
     "metadata": {},
     "output_type": "execute_result"
    }
   ],
   "source": [
    "# Install the surprise package\n",
    "!pip install -q -U scikit-surprise\n",
    "from surprise import Dataset, Reader\n",
    "import pandas as pd\n",
    "import os\n",
    "import matplotlib.pyplot as plt\n",
    "import numpy as np\n",
    "from scipy.io import arff\n",
    "import re\n",
    "import nltk\n",
    "nltk.download('stopwords')"
   ]
  },
  {
   "cell_type": "markdown",
   "id": "cbff1c1f-d7bc-40ab-942a-0b78586ebc61",
   "metadata": {},
   "source": [
    "## Loading Data"
   ]
  },
  {
   "cell_type": "code",
   "execution_count": 15,
   "id": "38ffa0a8-4075-4bfd-b334-9ff7bde6c21b",
   "metadata": {},
   "outputs": [],
   "source": [
    "# Reading and processing the data in chunks for large datasets or busy RAM\n",
    "def read_and_process_json_in_chunks(path, chunksize=10000, dtype=None):\n",
    "    chunks = []\n",
    "    for chunk in pd.read_json(path, lines=True, dtype=dtype, chunksize=chunksize):\n",
    "        chunks.append(chunk)\n",
    "    return pd.concat(chunks, ignore_index=True)"
   ]
  },
  {
   "cell_type": "code",
   "execution_count": 32,
   "id": "8defbc8b-c08f-428a-af19-e2b3ee2ca370",
   "metadata": {},
   "outputs": [
    {
     "ename": "ValueError",
     "evalue": "Could not reserve memory block",
     "output_type": "error",
     "traceback": [
      "\u001b[1;31m---------------------------------------------------------------------------\u001b[0m",
      "\u001b[1;31mValueError\u001b[0m                                Traceback (most recent call last)",
      "Cell \u001b[1;32mIn[32], line 2\u001b[0m\n\u001b[0;32m      1\u001b[0m path_ratings \u001b[38;5;241m=\u001b[39m os\u001b[38;5;241m.\u001b[39mpath\u001b[38;5;241m.\u001b[39mexpanduser(\u001b[38;5;124m'\u001b[39m\u001b[38;5;124m../data/Kindle_Store_5.json.gz\u001b[39m\u001b[38;5;124m'\u001b[39m)\n\u001b[1;32m----> 2\u001b[0m ratings \u001b[38;5;241m=\u001b[39m \u001b[43mread_and_process_json_in_chunks\u001b[49m\u001b[43m(\u001b[49m\u001b[43mpath_ratings\u001b[49m\u001b[43m,\u001b[49m\u001b[43m \u001b[49m\u001b[43mdtype\u001b[49m\u001b[38;5;241;43m=\u001b[39;49m\u001b[43m \u001b[49m\u001b[43m{\u001b[49m\u001b[38;5;124;43m'\u001b[39;49m\u001b[38;5;124;43mreviewerID\u001b[39;49m\u001b[38;5;124;43m'\u001b[39;49m\u001b[43m:\u001b[49m\u001b[43m \u001b[49m\u001b[38;5;28;43mstr\u001b[39;49m\u001b[43m,\u001b[49m\u001b[43m \u001b[49m\u001b[38;5;124;43m'\u001b[39;49m\u001b[38;5;124;43masin\u001b[39;49m\u001b[38;5;124;43m'\u001b[39;49m\u001b[43m:\u001b[49m\u001b[43m \u001b[49m\u001b[38;5;28;43mstr\u001b[39;49m\u001b[43m,\u001b[49m\u001b[43m \u001b[49m\u001b[38;5;124;43m'\u001b[39;49m\u001b[38;5;124;43moverall\u001b[39;49m\u001b[38;5;124;43m'\u001b[39;49m\u001b[43m:\u001b[49m\u001b[43m \u001b[49m\u001b[38;5;28;43mint\u001b[39;49m\u001b[43m,\u001b[49m\u001b[43m \u001b[49m\u001b[38;5;124;43m'\u001b[39;49m\u001b[38;5;124;43mreviewTime\u001b[39;49m\u001b[38;5;124;43m'\u001b[39;49m\u001b[43m:\u001b[49m\u001b[43m \u001b[49m\u001b[38;5;28;43mstr\u001b[39;49m\u001b[43m}\u001b[49m\u001b[43m)\u001b[49m\n",
      "Cell \u001b[1;32mIn[15], line 4\u001b[0m, in \u001b[0;36mread_and_process_json_in_chunks\u001b[1;34m(path, chunksize, dtype)\u001b[0m\n\u001b[0;32m      2\u001b[0m \u001b[38;5;28;01mdef\u001b[39;00m \u001b[38;5;21mread_and_process_json_in_chunks\u001b[39m(path, chunksize\u001b[38;5;241m=\u001b[39m\u001b[38;5;241m10000\u001b[39m, dtype\u001b[38;5;241m=\u001b[39m\u001b[38;5;28;01mNone\u001b[39;00m):\n\u001b[0;32m      3\u001b[0m     chunks \u001b[38;5;241m=\u001b[39m []\n\u001b[1;32m----> 4\u001b[0m     \u001b[38;5;28;01mfor\u001b[39;00m chunk \u001b[38;5;129;01min\u001b[39;00m pd\u001b[38;5;241m.\u001b[39mread_json(path, lines\u001b[38;5;241m=\u001b[39m\u001b[38;5;28;01mTrue\u001b[39;00m, dtype\u001b[38;5;241m=\u001b[39mdtype, chunksize\u001b[38;5;241m=\u001b[39mchunksize):\n\u001b[0;32m      5\u001b[0m         chunks\u001b[38;5;241m.\u001b[39mappend(chunk)\n\u001b[0;32m      6\u001b[0m     \u001b[38;5;28;01mreturn\u001b[39;00m pd\u001b[38;5;241m.\u001b[39mconcat(chunks, ignore_index\u001b[38;5;241m=\u001b[39m\u001b[38;5;28;01mTrue\u001b[39;00m)\n",
      "File \u001b[1;32m~\\anaconda3\\envs\\test\\lib\\site-packages\\pandas\\io\\json\\_json.py:1054\u001b[0m, in \u001b[0;36mJsonReader.__next__\u001b[1;34m(self)\u001b[0m\n\u001b[0;32m   1052\u001b[0m \u001b[38;5;28;01mexcept\u001b[39;00m \u001b[38;5;167;01mException\u001b[39;00m \u001b[38;5;28;01mas\u001b[39;00m ex:\n\u001b[0;32m   1053\u001b[0m     \u001b[38;5;28mself\u001b[39m\u001b[38;5;241m.\u001b[39mclose()\n\u001b[1;32m-> 1054\u001b[0m     \u001b[38;5;28;01mraise\u001b[39;00m ex\n\u001b[0;32m   1056\u001b[0m \u001b[38;5;28;01mif\u001b[39;00m \u001b[38;5;28mself\u001b[39m\u001b[38;5;241m.\u001b[39mdtype_backend \u001b[38;5;129;01mis\u001b[39;00m \u001b[38;5;129;01mnot\u001b[39;00m lib\u001b[38;5;241m.\u001b[39mno_default:\n\u001b[0;32m   1057\u001b[0m     \u001b[38;5;28;01mreturn\u001b[39;00m obj\u001b[38;5;241m.\u001b[39mconvert_dtypes(\n\u001b[0;32m   1058\u001b[0m         infer_objects\u001b[38;5;241m=\u001b[39m\u001b[38;5;28;01mFalse\u001b[39;00m, dtype_backend\u001b[38;5;241m=\u001b[39m\u001b[38;5;28mself\u001b[39m\u001b[38;5;241m.\u001b[39mdtype_backend\n\u001b[0;32m   1059\u001b[0m     )\n",
      "File \u001b[1;32m~\\anaconda3\\envs\\test\\lib\\site-packages\\pandas\\io\\json\\_json.py:1047\u001b[0m, in \u001b[0;36mJsonReader.__next__\u001b[1;34m(self)\u001b[0m\n\u001b[0;32m   1045\u001b[0m \u001b[38;5;28;01mtry\u001b[39;00m:\n\u001b[0;32m   1046\u001b[0m     lines_json \u001b[38;5;241m=\u001b[39m \u001b[38;5;28mself\u001b[39m\u001b[38;5;241m.\u001b[39m_combine_lines(lines)\n\u001b[1;32m-> 1047\u001b[0m     obj \u001b[38;5;241m=\u001b[39m \u001b[38;5;28;43mself\u001b[39;49m\u001b[38;5;241;43m.\u001b[39;49m\u001b[43m_get_object_parser\u001b[49m\u001b[43m(\u001b[49m\u001b[43mlines_json\u001b[49m\u001b[43m)\u001b[49m\n\u001b[0;32m   1049\u001b[0m     \u001b[38;5;66;03m# Make sure that the returned objects have the right index.\u001b[39;00m\n\u001b[0;32m   1050\u001b[0m     obj\u001b[38;5;241m.\u001b[39mindex \u001b[38;5;241m=\u001b[39m \u001b[38;5;28mrange\u001b[39m(\u001b[38;5;28mself\u001b[39m\u001b[38;5;241m.\u001b[39mnrows_seen, \u001b[38;5;28mself\u001b[39m\u001b[38;5;241m.\u001b[39mnrows_seen \u001b[38;5;241m+\u001b[39m \u001b[38;5;28mlen\u001b[39m(obj))\n",
      "File \u001b[1;32m~\\anaconda3\\envs\\test\\lib\\site-packages\\pandas\\io\\json\\_json.py:1001\u001b[0m, in \u001b[0;36mJsonReader._get_object_parser\u001b[1;34m(self, json)\u001b[0m\n\u001b[0;32m    999\u001b[0m obj \u001b[38;5;241m=\u001b[39m \u001b[38;5;28;01mNone\u001b[39;00m\n\u001b[0;32m   1000\u001b[0m \u001b[38;5;28;01mif\u001b[39;00m typ \u001b[38;5;241m==\u001b[39m \u001b[38;5;124m\"\u001b[39m\u001b[38;5;124mframe\u001b[39m\u001b[38;5;124m\"\u001b[39m:\n\u001b[1;32m-> 1001\u001b[0m     obj \u001b[38;5;241m=\u001b[39m \u001b[43mFrameParser\u001b[49m\u001b[43m(\u001b[49m\u001b[43mjson\u001b[49m\u001b[43m,\u001b[49m\u001b[43m \u001b[49m\u001b[38;5;241;43m*\u001b[39;49m\u001b[38;5;241;43m*\u001b[39;49m\u001b[43mkwargs\u001b[49m\u001b[43m)\u001b[49m\u001b[38;5;241;43m.\u001b[39;49m\u001b[43mparse\u001b[49m\u001b[43m(\u001b[49m\u001b[43m)\u001b[49m\n\u001b[0;32m   1003\u001b[0m \u001b[38;5;28;01mif\u001b[39;00m typ \u001b[38;5;241m==\u001b[39m \u001b[38;5;124m\"\u001b[39m\u001b[38;5;124mseries\u001b[39m\u001b[38;5;124m\"\u001b[39m \u001b[38;5;129;01mor\u001b[39;00m obj \u001b[38;5;129;01mis\u001b[39;00m \u001b[38;5;28;01mNone\u001b[39;00m:\n\u001b[0;32m   1004\u001b[0m     \u001b[38;5;28;01mif\u001b[39;00m \u001b[38;5;129;01mnot\u001b[39;00m \u001b[38;5;28misinstance\u001b[39m(dtype, \u001b[38;5;28mbool\u001b[39m):\n",
      "File \u001b[1;32m~\\anaconda3\\envs\\test\\lib\\site-packages\\pandas\\io\\json\\_json.py:1134\u001b[0m, in \u001b[0;36mParser.parse\u001b[1;34m(self)\u001b[0m\n\u001b[0;32m   1133\u001b[0m \u001b[38;5;28;01mdef\u001b[39;00m \u001b[38;5;21mparse\u001b[39m(\u001b[38;5;28mself\u001b[39m):\n\u001b[1;32m-> 1134\u001b[0m     \u001b[38;5;28;43mself\u001b[39;49m\u001b[38;5;241;43m.\u001b[39;49m\u001b[43m_parse\u001b[49m\u001b[43m(\u001b[49m\u001b[43m)\u001b[49m\n\u001b[0;32m   1136\u001b[0m     \u001b[38;5;28;01mif\u001b[39;00m \u001b[38;5;28mself\u001b[39m\u001b[38;5;241m.\u001b[39mobj \u001b[38;5;129;01mis\u001b[39;00m \u001b[38;5;28;01mNone\u001b[39;00m:\n\u001b[0;32m   1137\u001b[0m         \u001b[38;5;28;01mreturn\u001b[39;00m \u001b[38;5;28;01mNone\u001b[39;00m\n",
      "File \u001b[1;32m~\\anaconda3\\envs\\test\\lib\\site-packages\\pandas\\io\\json\\_json.py:1320\u001b[0m, in \u001b[0;36mFrameParser._parse\u001b[1;34m(self)\u001b[0m\n\u001b[0;32m   1316\u001b[0m orient \u001b[38;5;241m=\u001b[39m \u001b[38;5;28mself\u001b[39m\u001b[38;5;241m.\u001b[39morient\n\u001b[0;32m   1318\u001b[0m \u001b[38;5;28;01mif\u001b[39;00m orient \u001b[38;5;241m==\u001b[39m \u001b[38;5;124m\"\u001b[39m\u001b[38;5;124mcolumns\u001b[39m\u001b[38;5;124m\"\u001b[39m:\n\u001b[0;32m   1319\u001b[0m     \u001b[38;5;28mself\u001b[39m\u001b[38;5;241m.\u001b[39mobj \u001b[38;5;241m=\u001b[39m DataFrame(\n\u001b[1;32m-> 1320\u001b[0m         \u001b[43mloads\u001b[49m\u001b[43m(\u001b[49m\u001b[43mjson\u001b[49m\u001b[43m,\u001b[49m\u001b[43m \u001b[49m\u001b[43mprecise_float\u001b[49m\u001b[38;5;241;43m=\u001b[39;49m\u001b[38;5;28;43mself\u001b[39;49m\u001b[38;5;241;43m.\u001b[39;49m\u001b[43mprecise_float\u001b[49m\u001b[43m)\u001b[49m, dtype\u001b[38;5;241m=\u001b[39m\u001b[38;5;28;01mNone\u001b[39;00m\n\u001b[0;32m   1321\u001b[0m     )\n\u001b[0;32m   1322\u001b[0m \u001b[38;5;28;01melif\u001b[39;00m orient \u001b[38;5;241m==\u001b[39m \u001b[38;5;124m\"\u001b[39m\u001b[38;5;124msplit\u001b[39m\u001b[38;5;124m\"\u001b[39m:\n\u001b[0;32m   1323\u001b[0m     decoded \u001b[38;5;241m=\u001b[39m {\n\u001b[0;32m   1324\u001b[0m         \u001b[38;5;28mstr\u001b[39m(k): v\n\u001b[0;32m   1325\u001b[0m         \u001b[38;5;28;01mfor\u001b[39;00m k, v \u001b[38;5;129;01min\u001b[39;00m loads(json, precise_float\u001b[38;5;241m=\u001b[39m\u001b[38;5;28mself\u001b[39m\u001b[38;5;241m.\u001b[39mprecise_float)\u001b[38;5;241m.\u001b[39mitems()\n\u001b[0;32m   1326\u001b[0m     }\n",
      "\u001b[1;31mValueError\u001b[0m: Could not reserve memory block"
     ]
    }
   ],
   "source": [
    "path_ratings = os.path.expanduser('../data/Kindle_Store_5.json.gz')\n",
    "ratings = read_and_process_json_in_chunks(path_ratings, dtype= {'reviewerID': str, 'asin': str, 'overall': int, 'reviewTime': str})"
   ]
  },
  {
   "cell_type": "code",
   "execution_count": 16,
   "id": "d6c5305d-1f8a-4c0e-b192-70216222af40",
   "metadata": {},
   "outputs": [],
   "source": [
    "path_meta = os.path.expanduser('../data/meta_Kindle_Store.json.gz')\n",
    "meta_data = read_and_process_json_in_chunks(path_ratings,  dtype= {'category': str})"
   ]
  },
  {
   "cell_type": "code",
   "execution_count": 17,
   "id": "5cf126f7-e905-43b6-a57e-27714de4d336",
   "metadata": {},
   "outputs": [],
   "source": [
    "preprocessing_ratings = ratings.copy()"
   ]
  },
  {
   "cell_type": "code",
   "execution_count": 18,
   "id": "e10a54c3-0ab4-479d-88d8-3413111b6765",
   "metadata": {},
   "outputs": [],
   "source": [
    "preprocessing_meta = meta_data.copy()"
   ]
  },
  {
   "cell_type": "markdown",
   "id": "7b874c92-7f4d-4529-85ca-c22d1e9b643a",
   "metadata": {},
   "source": [
    "## Preprocessing Ratings"
   ]
  },
  {
   "cell_type": "code",
   "execution_count": 19,
   "id": "0975aa31-c2a6-40ed-b56c-3ffafad6fd0b",
   "metadata": {},
   "outputs": [],
   "source": [
    "# change the name of the ratings column from overall to rating to make this more clear\n",
    "preprocessing_ratings.rename(columns={'overall':'rating'}, inplace=True)"
   ]
  },
  {
   "cell_type": "code",
   "execution_count": 20,
   "id": "6140cbca-2fc2-43c9-9d19-0f779fe56487",
   "metadata": {},
   "outputs": [],
   "source": [
    "# Filter out every style except Kindle (Paperback, Audible, Hardcover, MP3 CD remove)\n",
    "if 'style' in preprocessing_ratings.columns:\n",
    "    # Filter the DataFrame to include only rows where 'style' column contains only Kindle\n",
    "    preprocessing_ratings = preprocessing_ratings[preprocessing_ratings['style'].astype(str).str.contains(\"{'Format:': ' Kindle Edition'}\")]\n",
    "    # Remove verified column, as we assume, all remaining ratings are for Products within the Kindle Edition\n",
    "    preprocessing_ratings = preprocessing_ratings.drop(columns=['style'])"
   ]
  },
  {
   "cell_type": "code",
   "execution_count": 29,
   "id": "2ba0b246-baee-4f26-89a2-054a16c99741",
   "metadata": {},
   "outputs": [],
   "source": [
    "# Filter by verified and remove unverified reviews\n",
    "if 'verified' in preprocessing_ratings.columns:\n",
    "    preprocessing_ratings = preprocessing_ratings[preprocessing_ratings['verified'] == True]\n",
    "    # Remove verified column, as we assume, all remaining ratings are verified\n",
    "    preprocessing_ratings.drop(columns=['verified'], inplace=True)\n",
    "\n",
    "# Drop unixReviewTime\n",
    "if 'unixReviewTime' in preprocessing_ratings.columns:\n",
    "    preprocessing_ratings.drop(columns=['unixReviewTime'], inplace=True)\n",
    "\n",
    "# Drop unixReviewTime\n",
    "if 'reviewTime' in preprocessing_ratings.columns:\n",
    "    preprocessing_ratings.drop(columns=['reviewTime'], inplace=True)\n",
    "\n",
    "# Drop the 'image' column\n",
    "if 'image' in preprocessing_ratings.columns:\n",
    "    preprocessing_ratings = preprocessing_ratings.drop(columns=['image'])\n",
    "\n",
    "# Drop the 'reviewText' column\n",
    "if 'reviewText' in preprocessing_ratings.columns:\n",
    "    preprocessing_ratings = preprocessing_ratings.drop(columns=['reviewText'])\n",
    "\n",
    "# Drop the 'summary' column\n",
    "if 'summary' in preprocessing_ratings.columns:\n",
    "    preprocessing_ratings = preprocessing_ratings.drop(columns=['summary'])\n",
    "\n",
    "# Drop the 'reviewerName' column\n",
    "if 'reviewerName' in preprocessing_ratings.columns:\n",
    "    preprocessing_ratings = preprocessing_ratings.drop(columns=['reviewerName'])\n",
    "\n",
    "# Drop the 'vote' column\n",
    "if 'vote' in preprocessing_ratings.columns:\n",
    "    preprocessing_ratings = preprocessing_ratings.drop(columns=['vote'])"
   ]
  },
  {
   "cell_type": "code",
   "execution_count": 30,
   "id": "11592a92-95e7-459b-9713-fbf364ee93b8",
   "metadata": {},
   "outputs": [],
   "source": [
    "# Drop Duplicate Rating entries\n",
    "preprocessing_ratings.drop_duplicates(subset=None, keep='first', inplace=True, ignore_index=False)"
   ]
  },
  {
   "cell_type": "code",
   "execution_count": 31,
   "id": "6a5638d2-e4a2-4e16-b240-f54204599490",
   "metadata": {},
   "outputs": [
    {
     "data": {
      "text/html": [
       "<div>\n",
       "<style scoped>\n",
       "    .dataframe tbody tr th:only-of-type {\n",
       "        vertical-align: middle;\n",
       "    }\n",
       "\n",
       "    .dataframe tbody tr th {\n",
       "        vertical-align: top;\n",
       "    }\n",
       "\n",
       "    .dataframe thead th {\n",
       "        text-align: right;\n",
       "    }\n",
       "</style>\n",
       "<table border=\"1\" class=\"dataframe\">\n",
       "  <thead>\n",
       "    <tr style=\"text-align: right;\">\n",
       "      <th></th>\n",
       "      <th>rating</th>\n",
       "      <th>reviewerID</th>\n",
       "      <th>asin</th>\n",
       "    </tr>\n",
       "  </thead>\n",
       "  <tbody>\n",
       "    <tr>\n",
       "      <th>0</th>\n",
       "      <td>4.0</td>\n",
       "      <td>A2LSKD2H9U8N0J</td>\n",
       "      <td>B000FA5KK0</td>\n",
       "    </tr>\n",
       "    <tr>\n",
       "      <th>1</th>\n",
       "      <td>5.0</td>\n",
       "      <td>A2QP13XTJND1QS</td>\n",
       "      <td>B000FA5KK0</td>\n",
       "    </tr>\n",
       "    <tr>\n",
       "      <th>2</th>\n",
       "      <td>5.0</td>\n",
       "      <td>A8WQ7MAG3HFOZ</td>\n",
       "      <td>B000FA5KK0</td>\n",
       "    </tr>\n",
       "    <tr>\n",
       "      <th>3</th>\n",
       "      <td>5.0</td>\n",
       "      <td>A1E0MODSRYP7O</td>\n",
       "      <td>B000FA5KK0</td>\n",
       "    </tr>\n",
       "    <tr>\n",
       "      <th>4</th>\n",
       "      <td>5.0</td>\n",
       "      <td>AYUTCGVSM1H7T</td>\n",
       "      <td>B000FA5KK0</td>\n",
       "    </tr>\n",
       "  </tbody>\n",
       "</table>\n",
       "</div>"
      ],
      "text/plain": [
       "  rating      reviewerID        asin\n",
       "0    4.0  A2LSKD2H9U8N0J  B000FA5KK0\n",
       "1    5.0  A2QP13XTJND1QS  B000FA5KK0\n",
       "2    5.0   A8WQ7MAG3HFOZ  B000FA5KK0\n",
       "3    5.0   A1E0MODSRYP7O  B000FA5KK0\n",
       "4    5.0   AYUTCGVSM1H7T  B000FA5KK0"
      ]
     },
     "execution_count": 31,
     "metadata": {},
     "output_type": "execute_result"
    }
   ],
   "source": [
    "preprocessing_ratings.head()"
   ]
  },
  {
   "cell_type": "code",
   "execution_count": null,
   "id": "2e742c51-cafe-4f4b-bdcf-0a5943e182f3",
   "metadata": {},
   "outputs": [],
   "source": []
  }
 ],
 "metadata": {
  "kernelspec": {
   "display_name": "Python 3 (ipykernel)",
   "language": "python",
   "name": "python3"
  },
  "language_info": {
   "codemirror_mode": {
    "name": "ipython",
    "version": 3
   },
   "file_extension": ".py",
   "mimetype": "text/x-python",
   "name": "python",
   "nbconvert_exporter": "python",
   "pygments_lexer": "ipython3",
   "version": "3.8.18"
  }
 },
 "nbformat": 4,
 "nbformat_minor": 5
}
